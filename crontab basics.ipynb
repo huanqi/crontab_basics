{
 "cells": [
  {
   "cell_type": "markdown",
   "metadata": {},
   "source": [
    "# crontab basis\n",
    "\n",
    "* updated 04/04/2017"
   ]
  },
  {
   "cell_type": "markdown",
   "metadata": {},
   "source": [
    "## crontab commands"
   ]
  },
  {
   "cell_type": "raw",
   "metadata": {},
   "source": [
    "* crontab -e    \n",
    "    Edit crontab file, or create one if it doesn’t already exist.\n",
    "    \n",
    "* crontab -l    \n",
    "    crontab list of cronjobs , display crontab file contents.\n",
    "    \n",
    "* crontab -r    \n",
    "    Remove your crontab file.\n",
    "    \n",
    "* crontab -v    \n",
    "    Display the last time you edited your crontab file. (This option is only available on a few systems.)"
   ]
  },
  {
   "cell_type": "markdown",
   "metadata": {},
   "source": [
    "## crontab syntax"
   ]
  },
  {
   "cell_type": "raw",
   "metadata": {},
   "source": [
    "    */min   */hour   */day   */month   */day_of_week    command to be executed"
   ]
  },
  {
   "cell_type": "markdown",
   "metadata": {},
   "source": [
    "# crontab examples"
   ]
  },
  {
   "cell_type": "markdown",
   "metadata": {},
   "source": [
    "* 18:30 Hrs on 1st of Jan, June & Dec. run rm command"
   ]
  },
  {
   "cell_type": "raw",
   "metadata": {},
   "source": [
    "    30     18     1      1,6,12     *        rm /home/someuser/tmp/*"
   ]
  },
  {
   "cell_type": "markdown",
   "metadata": {},
   "source": [
    "* 18:30 Hrs on 1st of Jan, June & Dec. run python program"
   ]
  },
  {
   "cell_type": "raw",
   "metadata": {},
   "source": [
    "    30     18     1      1,6,12     *         echo $(which python) /home/user/example.py"
   ]
  },
  {
   "cell_type": "markdown",
   "metadata": {},
   "source": [
    "* 18:30 Hrs on 1st of Jan, June & Dec. run shell command "
   ]
  },
  {
   "cell_type": "raw",
   "metadata": {},
   "source": [
    "    chmod 755 /home/user.example.sh      \n",
    "    30     18     1      1,6,12     *         /home/user/example.sh"
   ]
  },
  {
   "cell_type": "markdown",
   "metadata": {},
   "source": [
    "## crontab shell command examples\n",
    "* set up the path for all execuatable commands. which python, which aws, etc"
   ]
  },
  {
   "cell_type": "markdown",
   "metadata": {},
   "source": [
    "### One example\n"
   ]
  },
  {
   "cell_type": "raw",
   "metadata": {},
   "source": [
    "#!/bin/bash    \n",
    "PATH=/usr/bin/\n",
    "\n",
    "python /opt/wyzerr/wyzerr_client/wyzerr_clients.py    \n",
    "aws s3 cp /opt/wyzerr/wyzerr_client/ s3://wyzerr-new-customers/ --recursive --exclude \"*\"  --include \"*.csv\"\n",
    "\n",
    "rm /opt/wyzerr/wyzerr_client/*.csv"
   ]
  },
  {
   "cell_type": "markdown",
   "metadata": {},
   "source": [
    "### Another example\n"
   ]
  },
  {
   "cell_type": "raw",
   "metadata": {},
   "source": [
    "#!/bin/bash    \n",
    "set -x    \n",
    "DATE='date +%Y-%m-%d-%H-%M-%S'    \n",
    "DIR=/data/backups    \n",
    "HOST=localhost:27017  \n",
    "DUMP_TOOL=$(which mongodump)  \n",
    "ZIP=$DIR/$DATE.tar.gz  \n",
    "  \n",
    "echo \"$DATE $HOST $DUMP_TOOL $ZIP\"  \n",
    "\n",
    "rm /data/backups/*  \n",
    "$DUMP_TOOL --host $HOST -o $DIR/$DATE  \n",
    "tar -czvf $ZIP $DIR/$DATE  \n",
    "\n",
    "rm -rf $DIR/$DATE  \n",
    "aws s3 cp $ZIP s3://wyzerr-mongo-backups/$DATE.tar.gz  "
   ]
  },
  {
   "cell_type": "markdown",
   "metadata": {},
   "source": [
    "## additional links \n",
    "http://stackoverflow.com/questions/7970905/cannot-import-python-mysql-module-when-running-a-script-using-crontab\n",
    "\n",
    "https://crontab.guru/"
   ]
  },
  {
   "cell_type": "code",
   "execution_count": null,
   "metadata": {
    "collapsed": true
   },
   "outputs": [],
   "source": []
  }
 ],
 "metadata": {
  "kernelspec": {
   "display_name": "Python 2",
   "language": "python",
   "name": "python2"
  },
  "language_info": {
   "codemirror_mode": {
    "name": "ipython",
    "version": 2
   },
   "file_extension": ".py",
   "mimetype": "text/x-python",
   "name": "python",
   "nbconvert_exporter": "python",
   "pygments_lexer": "ipython2",
   "version": "2.7.12"
  }
 },
 "nbformat": 4,
 "nbformat_minor": 0
}
